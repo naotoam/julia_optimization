{
 "cells": [
  {
   "cell_type": "code",
   "execution_count": 2,
   "id": "peaceful-turtle",
   "metadata": {},
   "outputs": [],
   "source": [
    "import Pkg # Importa el administrador de paquetes Pkg\n",
    "Pkg.add(\"JuMP\") # Instala el paquete JuMP"
   ]
  },
  {
   "cell_type": "code",
   "execution_count": 3,
   "id": "finite-newport",
   "metadata": {},
   "outputs": [],
   "source": [
    "Pkg.add(\"GLPK\") # Instala el paquete GLPK"
   ]
  },
  {
   "cell_type": "code",
   "execution_count": 4,
   "id": "bronze-sarah",
   "metadata": {},
   "outputs": [],
   "source": [
    "using JuMP # Importa el modulo JuMP.\n",
    "using GLPK # Importa el modulo GLPK para utilizar el solver."
   ]
  },
  {
   "cell_type": "markdown",
   "id": "reduced-aircraft",
   "metadata": {},
   "source": [
    "## Pregunta 1"
   ]
  },
  {
   "cell_type": "markdown",
   "id": "traditional-waste",
   "metadata": {},
   "source": [
    "### Instancia del Modelo"
   ]
  },
  {
   "cell_type": "code",
   "execution_count": 5,
   "id": "trying-stream",
   "metadata": {},
   "outputs": [
    {
     "data": {
      "text/plain": [
       "A JuMP Model\n",
       "Feasibility problem with:\n",
       "Variables: 0\n",
       "Model mode: AUTOMATIC\n",
       "CachingOptimizer state: EMPTY_OPTIMIZER\n",
       "Solver name: GLPK"
      ]
     },
     "execution_count": 5,
     "metadata": {},
     "output_type": "execute_result"
    }
   ],
   "source": [
    "modeloP1 = Model(with_optimizer(GLPK.Optimizer))"
   ]
  },
  {
   "cell_type": "markdown",
   "id": "level-valve",
   "metadata": {},
   "source": [
    "### Definición de variables decisión\n",
    "\n",
    "En este caso, corresponden a:\n",
    "Xij -> Con i = [1,4], j=[1,3] correspondiente a los componentes tipo i producidas el mes j.\n",
    "Iij -> Con i = [1,4], j=[1,2] correspondiente a las unidades de componente de tipo i almacenadas al final del mes j.\n",
    "Se define además que X_ij, I_ij >= 0"
   ]
  },
  {
   "cell_type": "code",
   "execution_count": 6,
   "id": "local-feeding",
   "metadata": {},
   "outputs": [
    {
     "data": {
      "text/latex": [
       "$$ i42 $$"
      ],
      "text/plain": [
       "i42"
      ]
     },
     "execution_count": 6,
     "metadata": {},
     "output_type": "execute_result"
    }
   ],
   "source": [
    "@variable(modeloP1, x11 >= 0)\n",
    "@variable(modeloP1, x12 >= 0)\n",
    "@variable(modeloP1, x13 >= 0)\n",
    "@variable(modeloP1, x21 >= 0)\n",
    "@variable(modeloP1, x22 >= 0)\n",
    "@variable(modeloP1, x23 >= 0)\n",
    "@variable(modeloP1, x31 >= 0)\n",
    "@variable(modeloP1, x32 >= 0)\n",
    "@variable(modeloP1, x33 >= 0)\n",
    "@variable(modeloP1, x41 >= 0)\n",
    "@variable(modeloP1, x42 >= 0)\n",
    "@variable(modeloP1, x43 >= 0)\n",
    "@variable(modeloP1, i11 >= 0)\n",
    "@variable(modeloP1, i12 >= 0)\n",
    "@variable(modeloP1, i21 >= 0)\n",
    "@variable(modeloP1, i22 >= 0)\n",
    "@variable(modeloP1, i31 >= 0)\n",
    "@variable(modeloP1, i32 >= 0)\n",
    "@variable(modeloP1, i41 >= 0)\n",
    "@variable(modeloP1, i42 >= 0)"
   ]
  },
  {
   "cell_type": "markdown",
   "id": "stable-madison",
   "metadata": {},
   "source": [
    "### Función Objetivo\n",
    "\n",
    "De acuerdo al enunciado, tenemos que: \n"
   ]
  },
  {
   "cell_type": "code",
   "execution_count": 7,
   "id": "front-florida",
   "metadata": {},
   "outputs": [
    {
     "data": {
      "text/latex": [
       "$$ 20 x11 + 20 x12 + 20 x13 + 25 x21 + 25 x22 + 25 x23 + 10 x31 + 10 x32 + 10 x33 + 15 x41 + 15 x42 + 15 x43 + 0.4 i11 + 0.4 i12 + 0.5 i21 + 0.5 i22 + 0.3 i31 + 0.3 i32 + 0.3 i41 + 0.3 i42 $$"
      ],
      "text/plain": [
       "20 x11 + 20 x12 + 20 x13 + 25 x21 + 25 x22 + 25 x23 + 10 x31 + 10 x32 + 10 x33 + 15 x41 + 15 x42 + 15 x43 + 0.4 i11 + 0.4 i12 + 0.5 i21 + 0.5 i22 + 0.3 i31 + 0.3 i32 + 0.3 i41 + 0.3 i42"
      ]
     },
     "execution_count": 7,
     "metadata": {},
     "output_type": "execute_result"
    }
   ],
   "source": [
    "@objective(modeloP1, Min, 20(x11 + x12 + x13) + 25(x21 + x22 + x23) + 10(x31 + x32 + x33) + 15(x41 + x42 + x43) + 0.4(i11+i12) + 0.5(i21+i22) + 0.3(i31+i32) + 0.3(i41+i42)) "
   ]
  },
  {
   "cell_type": "markdown",
   "id": "upper-elizabeth",
   "metadata": {},
   "source": [
    "### Restricciones"
   ]
  },
  {
   "cell_type": "code",
   "execution_count": 8,
   "id": "likely-royal",
   "metadata": {},
   "outputs": [
    {
     "data": {
      "text/latex": [
       "$$ x43 + i42 = 1510.0 $$"
      ],
      "text/plain": [
       "x43 + i42 = 1510.0"
      ]
     },
     "execution_count": 8,
     "metadata": {},
     "output_type": "execute_result"
    }
   ],
   "source": [
    "@constraint(modeloP1,  10 + x11 - i11 == 1500)\n",
    "@constraint(modeloP1,  i11 + x12 - i12 == 3000)\n",
    "@constraint(modeloP1,  i12 + x13 - 50 == 2000)\n",
    "\n",
    "@constraint(modeloP1,  x21 - i21 == 1300)\n",
    "@constraint(modeloP1,  i21 + x22 - i22 == 800)\n",
    "@constraint(modeloP1,  i22 + x23 - 10 == 800)\n",
    "\n",
    "@constraint(modeloP1, x31 - i31 == 2200 )\n",
    "@constraint(modeloP1, i31 + x32 - i32 == 1500)\n",
    "@constraint(modeloP1, i32 + x33 - 10 == 2900)\n",
    "\n",
    "@constraint(modeloP1, x41 - i41 == 1400)\n",
    "@constraint(modeloP1, i41 + x42 - i42 == 1600)\n",
    "@constraint(modeloP1, i42 + x43 -10 == 1500)"
   ]
  },
  {
   "cell_type": "code",
   "execution_count": 9,
   "id": "ceramic-chair",
   "metadata": {},
   "outputs": [
    {
     "data": {
      "text/latex": [
       "$$ 0.2 x13 + 0.22 x23 + 0.24 x33 + 0.18 x43 \\leq 2000.0 $$"
      ],
      "text/plain": [
       "0.2 x13 + 0.22 x23 + 0.24 x33 + 0.18 x43 ≤ 2000.0"
      ]
     },
     "execution_count": 9,
     "metadata": {},
     "output_type": "execute_result"
    }
   ],
   "source": [
    "@constraint(modeloP1, 0.2x11 + 0.22x21 +0.24x31 + 0.18x41 <= 2000)\n",
    "@constraint(modeloP1, 0.2x12 + 0.22x22 +0.24x32 + 0.18x42 <= 2000)\n",
    "@constraint(modeloP1, 0.2x13 + 0.22x23 +0.24x33 + 0.18x43 <= 2000)"
   ]
  },
  {
   "cell_type": "markdown",
   "id": "immune-garbage",
   "metadata": {},
   "source": [
    "### Optimizar"
   ]
  },
  {
   "cell_type": "code",
   "execution_count": 10,
   "id": "weekly-queue",
   "metadata": {},
   "outputs": [
    {
     "data": {
      "text/plain": [
       "337300.0"
      ]
     },
     "execution_count": 10,
     "metadata": {},
     "output_type": "execute_result"
    }
   ],
   "source": [
    "\n",
    "optimize!(modeloP1) # Resuelve el  modelo\n",
    "objective_value(modeloP1) # Entrega el valor objetivo óptimo"
   ]
  },
  {
   "cell_type": "code",
   "execution_count": 11,
   "id": "thrown-fireplace",
   "metadata": {},
   "outputs": [
    {
     "data": {
      "text/plain": [
       "(1490.0, 3000.0, 2050.0)"
      ]
     },
     "execution_count": 11,
     "metadata": {},
     "output_type": "execute_result"
    }
   ],
   "source": [
    "# Vector x1\n",
    "value(x11), value(x12), value(x13)\n"
   ]
  },
  {
   "cell_type": "code",
   "execution_count": 12,
   "id": "juvenile-limit",
   "metadata": {},
   "outputs": [
    {
     "data": {
      "text/plain": [
       "(1300.0, 800.0, 810.0)"
      ]
     },
     "execution_count": 12,
     "metadata": {},
     "output_type": "execute_result"
    }
   ],
   "source": [
    "# Vector x2\n",
    "value(x21), value(x22), value(x23)\n"
   ]
  },
  {
   "cell_type": "code",
   "execution_count": 13,
   "id": "fitting-prime",
   "metadata": {},
   "outputs": [
    {
     "data": {
      "text/plain": [
       "(2200.0, 1500.0, 2910.0)"
      ]
     },
     "execution_count": 13,
     "metadata": {},
     "output_type": "execute_result"
    }
   ],
   "source": [
    "# Vector x3\n",
    "value(x31), value(x32), value(x33)"
   ]
  },
  {
   "cell_type": "code",
   "execution_count": 14,
   "id": "respiratory-check",
   "metadata": {},
   "outputs": [
    {
     "data": {
      "text/plain": [
       "(1400.0, 1600.0, 1510.0)"
      ]
     },
     "execution_count": 14,
     "metadata": {},
     "output_type": "execute_result"
    }
   ],
   "source": [
    "# Vector x4\n",
    "value(x41), value(x42), value(x43)"
   ]
  },
  {
   "cell_type": "code",
   "execution_count": 15,
   "id": "greater-african",
   "metadata": {},
   "outputs": [
    {
     "data": {
      "text/plain": [
       "(0.0, 0.0)"
      ]
     },
     "execution_count": 15,
     "metadata": {},
     "output_type": "execute_result"
    }
   ],
   "source": [
    "# Vector i1\n",
    "value(i11), value(i12)"
   ]
  },
  {
   "cell_type": "code",
   "execution_count": 16,
   "id": "killing-repeat",
   "metadata": {},
   "outputs": [
    {
     "data": {
      "text/plain": [
       "(0.0, 0.0)"
      ]
     },
     "execution_count": 16,
     "metadata": {},
     "output_type": "execute_result"
    }
   ],
   "source": [
    "# Vector i2\n",
    "value(i21), value(i22)"
   ]
  },
  {
   "cell_type": "code",
   "execution_count": 17,
   "id": "adopted-corner",
   "metadata": {},
   "outputs": [
    {
     "data": {
      "text/plain": [
       "(0.0, 0.0)"
      ]
     },
     "execution_count": 17,
     "metadata": {},
     "output_type": "execute_result"
    }
   ],
   "source": [
    "# Vector i3\n",
    "value(i31), value(i32)"
   ]
  },
  {
   "cell_type": "code",
   "execution_count": 18,
   "id": "absent-wesley",
   "metadata": {},
   "outputs": [
    {
     "data": {
      "text/plain": [
       "(0.0, 0.0)"
      ]
     },
     "execution_count": 18,
     "metadata": {},
     "output_type": "execute_result"
    }
   ],
   "source": [
    "# Vector i4\n",
    "value(i41), value(i42)"
   ]
  },
  {
   "cell_type": "markdown",
   "id": "enormous-decade",
   "metadata": {},
   "source": [
    "## Pregunta 2\n",
    "\n",
    "### Instancia del modelo"
   ]
  },
  {
   "cell_type": "code",
   "execution_count": 63,
   "id": "accomplished-border",
   "metadata": {},
   "outputs": [
    {
     "data": {
      "text/plain": [
       "A JuMP Model\n",
       "Feasibility problem with:\n",
       "Variables: 0\n",
       "Model mode: AUTOMATIC\n",
       "CachingOptimizer state: EMPTY_OPTIMIZER\n",
       "Solver name: GLPK"
      ]
     },
     "execution_count": 63,
     "metadata": {},
     "output_type": "execute_result"
    }
   ],
   "source": [
    "modeloP2 = Model(with_optimizer(GLPK.Optimizer))"
   ]
  },
  {
   "cell_type": "markdown",
   "id": "balanced-dubai",
   "metadata": {},
   "source": [
    "### Definición de variables\n",
    "Las Xi corresponde al bloque en cuestión con i [1,18]"
   ]
  },
  {
   "cell_type": "code",
   "execution_count": 64,
   "id": "recovered-nightlife",
   "metadata": {},
   "outputs": [
    {
     "data": {
      "text/latex": [
       "$$ x18 $$"
      ],
      "text/plain": [
       "x18"
      ]
     },
     "execution_count": 64,
     "metadata": {},
     "output_type": "execute_result"
    }
   ],
   "source": [
    "@variable(modeloP2, x1, Bin)\n",
    "@variable(modeloP2, x2, Bin)\n",
    "@variable(modeloP2, x3, Bin)\n",
    "@variable(modeloP2, x4, Bin)\n",
    "@variable(modeloP2, x5, Bin)\n",
    "@variable(modeloP2, x6, Bin)\n",
    "@variable(modeloP2, x7, Bin)\n",
    "@variable(modeloP2, x8, Bin)\n",
    "@variable(modeloP2, x9, Bin)\n",
    "@variable(modeloP2, x10, Bin)\n",
    "@variable(modeloP2, x11, Bin)\n",
    "@variable(modeloP2, x12, Bin)\n",
    "@variable(modeloP2, x13, Bin)\n",
    "@variable(modeloP2, x14, Bin)\n",
    "@variable(modeloP2, x15, Bin)\n",
    "@variable(modeloP2, x16, Bin)\n",
    "@variable(modeloP2, x17, Bin)\n",
    "@variable(modeloP2, x18, Bin)"
   ]
  },
  {
   "cell_type": "markdown",
   "id": "applicable-segment",
   "metadata": {},
   "source": [
    "### Función Objetivo\n",
    "\n",
    "Se requiere maximizar el beneficio"
   ]
  },
  {
   "cell_type": "code",
   "execution_count": 65,
   "id": "geographic-oxide",
   "metadata": {},
   "outputs": [
    {
     "data": {
      "text/latex": [
       "$$ 1.0e6 x1 - 1.0e6 x2 - 1.0e6 x3 - 1.0e6 x4 - 1.0e6 x5 - 1.0e6 x6 + 2.0e6 x7 - 1.0e6 x8 - 1.2e7 x9 + 3.0e6 x10 - 2.0e6 x11 + 0 x12 - 2.0e6 x13 - 1.2e7 x14 - 1.3e7 x15 - 1.3e7 x16 + 7.0e6 x17 - 1.0e6 x18 $$"
      ],
      "text/plain": [
       "1.0e6 x1 - 1.0e6 x2 - 1.0e6 x3 - 1.0e6 x4 - 1.0e6 x5 - 1.0e6 x6 + 2.0e6 x7 - 1.0e6 x8 - 1.2e7 x9 + 3.0e6 x10 - 2.0e6 x11 + 0 x12 - 2.0e6 x13 - 1.2e7 x14 - 1.3e7 x15 - 1.3e7 x16 + 7.0e6 x17 - 1.0e6 x18"
      ]
     },
     "execution_count": 65,
     "metadata": {},
     "output_type": "execute_result"
    }
   ],
   "source": [
    "@objective(modeloP2, Max, 10000((200 - 100)x1 + (-100)x2 + (-100)x3 + (-100)x4 + (-100)x5 + (-100)x6 + (300-100)x7 + (-100)x8 + (-1200)x9 + (500-200)x10 +(-200)x11 + (200-200)x12 + (-200)x13 + (-1200)x14 + (-1300)x15 + (-1300)x16 + (1000-300)x17 + (1200 - 1300)x18))"
   ]
  },
  {
   "cell_type": "markdown",
   "id": "extensive-occurrence",
   "metadata": {},
   "source": [
    "### Restricciones"
   ]
  },
  {
   "cell_type": "code",
   "execution_count": 66,
   "id": "changing-solution",
   "metadata": {},
   "outputs": [
    {
     "data": {
      "text/latex": [
       "$$ -x14 + x18 \\leq 0.0 $$"
      ],
      "text/plain": [
       "-x14 + x18 ≤ 0.0"
      ]
     },
     "execution_count": 66,
     "metadata": {},
     "output_type": "execute_result"
    }
   ],
   "source": [
    "@constraint(modeloP2,  x9 - x1 <= 0)\n",
    "@constraint(modeloP2,  x9 - x2 <= 0)\n",
    "@constraint(modeloP2,  x9 - x3 <= 0)\n",
    "\n",
    "@constraint(modeloP2,  x10 - x2 <= 0)\n",
    "@constraint(modeloP2,  x10 - x3 <= 0)\n",
    "@constraint(modeloP2,  x10 - x4 <= 0)\n",
    "\n",
    "@constraint(modeloP2,  x11 - x3 <= 0)\n",
    "@constraint(modeloP2,  x11 - x4 <= 0)\n",
    "@constraint(modeloP2,  x11 - x5 <= 0)\n",
    "\n",
    "\n",
    "@constraint(modeloP2,  x12 - x4 <= 0)\n",
    "@constraint(modeloP2,  x12 - x5 <= 0)\n",
    "@constraint(modeloP2,  x12 - x6 <= 0)\n",
    "\n",
    "@constraint(modeloP2,  x13 - x5 <= 0)\n",
    "@constraint(modeloP2,  x13 - x6 <= 0)\n",
    "@constraint(modeloP2,  x13 - x7 <= 0)\n",
    "\n",
    "@constraint(modeloP2,  x14 - x6 <= 0)\n",
    "@constraint(modeloP2,  x14 - x7 <= 0)\n",
    "@constraint(modeloP2,  x14 - x8 <= 0)\n",
    "\n",
    "@constraint(modeloP2,  x15 - x9 <= 0)\n",
    "@constraint(modeloP2,  x15 - x10 <= 0)\n",
    "@constraint(modeloP2,  x15 - x11 <= 0)\n",
    "\n",
    "@constraint(modeloP2,  x16 - x10 <= 0)\n",
    "@constraint(modeloP2,  x16 - x11 <= 0)\n",
    "@constraint(modeloP2,  x16 - x12 <= 0)\n",
    "\n",
    "@constraint(modeloP2,  x17 - x11 <= 0)\n",
    "@constraint(modeloP2,  x17 - x12 <= 0)\n",
    "@constraint(modeloP2,  x17 - x13 <= 0)\n",
    "\n",
    "@constraint(modeloP2,  x18 - x12 <= 0)\n",
    "@constraint(modeloP2,  x18 - x13 <= 0)\n",
    "@constraint(modeloP2,  x18 - x14 <= 0)"
   ]
  },
  {
   "cell_type": "markdown",
   "id": "peaceful-earth",
   "metadata": {},
   "source": [
    "### Optimizando"
   ]
  },
  {
   "cell_type": "code",
   "execution_count": 67,
   "id": "sonic-conservation",
   "metadata": {},
   "outputs": [
    {
     "data": {
      "text/plain": [
       "4.0e6"
      ]
     },
     "execution_count": 67,
     "metadata": {},
     "output_type": "execute_result"
    }
   ],
   "source": [
    "\n",
    "optimize!(modeloP2) # Resuelve el  modelo\n",
    "objective_value(modeloP2) # Entrega el valor objetivo óptimo"
   ]
  },
  {
   "cell_type": "markdown",
   "id": "athletic-attitude",
   "metadata": {},
   "source": [
    "### Valores del objetivo"
   ]
  },
  {
   "cell_type": "code",
   "execution_count": 68,
   "id": "reliable-myrtle",
   "metadata": {},
   "outputs": [
    {
     "data": {
      "text/plain": [
       "(1.0, 1.0, 1.0, 1.0, 1.0, 1.0, 1.0, 0.0)"
      ]
     },
     "execution_count": 68,
     "metadata": {},
     "output_type": "execute_result"
    }
   ],
   "source": [
    "value(x1),value(x2),value(x3),value(x4),value(x5),value(x6),value(x7),value(x8)"
   ]
  },
  {
   "cell_type": "code",
   "execution_count": 69,
   "id": "adjusted-lancaster",
   "metadata": {},
   "outputs": [
    {
     "data": {
      "text/plain": [
       "(0.0, 1.0, 1.0, 1.0, 1.0, 0.0)"
      ]
     },
     "execution_count": 69,
     "metadata": {},
     "output_type": "execute_result"
    }
   ],
   "source": [
    "value(x9),value(x10),value(x11),value(x12),value(x13),value(x14)"
   ]
  },
  {
   "cell_type": "code",
   "execution_count": 70,
   "id": "finished-andorra",
   "metadata": {},
   "outputs": [
    {
     "data": {
      "text/plain": [
       "(0.0, 0.0, 1.0, 0.0)"
      ]
     },
     "execution_count": 70,
     "metadata": {},
     "output_type": "execute_result"
    }
   ],
   "source": [
    "value(x15),value(x16),value(x17),value(x18)"
   ]
  }
 ],
 "metadata": {
  "kernelspec": {
   "display_name": "Julia 1.6.1",
   "language": "julia",
   "name": "julia-1.6"
  },
  "language_info": {
   "file_extension": ".jl",
   "mimetype": "application/julia",
   "name": "julia",
   "version": "1.6.1"
  }
 },
 "nbformat": 4,
 "nbformat_minor": 5
}
