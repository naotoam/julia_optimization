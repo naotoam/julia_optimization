{
 "cells": [
  {
   "cell_type": "code",
   "execution_count": 1,
   "id": "protecting-honey",
   "metadata": {},
   "outputs": [],
   "source": [
    "import Pkg # Importa el administrador de paquetes Pkg\n",
    "Pkg.add(\"JuMP\") # Instala el paquete JuMP"
   ]
  },
  {
   "cell_type": "code",
   "execution_count": null,
   "id": "beautiful-synthetic",
   "metadata": {},
   "outputs": [],
   "source": []
  }
 ],
 "metadata": {
  "kernelspec": {
   "display_name": "Julia 1.6.1",
   "language": "julia",
   "name": "julia-1.6"
  },
  "language_info": {
   "file_extension": ".jl",
   "mimetype": "application/julia",
   "name": "julia",
   "version": "1.6.1"
  }
 },
 "nbformat": 4,
 "nbformat_minor": 5
}
