{
 "cells": [
  {
   "cell_type": "code",
   "execution_count": 1,
   "id": "progressive-muscle",
   "metadata": {},
   "outputs": [],
   "source": [
    "import Pkg # Importa el administrador de paquetes Pkg\n",
    "Pkg.add(\"JuMP\") # Instala el paquete JuMP"
   ]
  },
  {
   "cell_type": "code",
   "execution_count": 2,
   "id": "suited-significance",
   "metadata": {},
   "outputs": [],
   "source": [
    "Pkg.add(\"GLPK\") # Instala el paquete GLPK"
   ]
  },
  {
   "cell_type": "code",
   "execution_count": 3,
   "id": "controlled-probability",
   "metadata": {},
   "outputs": [],
   "source": [
    "using JuMP # Importa el modulo JuMP.\n",
    "using GLPK # Importa el modulo GLPK para utilizar el solver."
   ]
  },
  {
   "cell_type": "markdown",
   "id": "herbal-nancy",
   "metadata": {},
   "source": [
    "## Pregunta 1"
   ]
  },
  {
   "cell_type": "markdown",
   "id": "straight-miniature",
   "metadata": {},
   "source": [
    "### Instancia del Modelo"
   ]
  },
  {
   "cell_type": "code",
   "execution_count": 5,
   "id": "numerical-strip",
   "metadata": {},
   "outputs": [
    {
     "data": {
      "text/plain": [
       "A JuMP Model\n",
       "Feasibility problem with:\n",
       "Variables: 0\n",
       "Model mode: AUTOMATIC\n",
       "CachingOptimizer state: EMPTY_OPTIMIZER\n",
       "Solver name: GLPK"
      ]
     },
     "execution_count": 5,
     "metadata": {},
     "output_type": "execute_result"
    }
   ],
   "source": [
    "modeloP1 = Model(with_optimizer(GLPK.Optimizer))"
   ]
  },
  {
   "cell_type": "markdown",
   "id": "uniform-kernel",
   "metadata": {},
   "source": [
    "### Definición de variables decisión\n",
    "\n",
    "En este caso, corresponden a:\n",
    "Xij -> Con i = [1,4], j=[1,3] correspondiente a los componentes tipo i producidas el mes j.\n",
    "Iij -> Con i = [1,4], j=[1,2] correspondiente a las unidades de componente de tipo i almacenadas al final del mes j.\n",
    "Se define además que X_ij, I_ij >= 0"
   ]
  },
  {
   "cell_type": "code",
   "execution_count": 6,
   "id": "recent-horror",
   "metadata": {},
   "outputs": [
    {
     "data": {
      "text/latex": [
       "$$ i42 $$"
      ],
      "text/plain": [
       "i42"
      ]
     },
     "execution_count": 6,
     "metadata": {},
     "output_type": "execute_result"
    }
   ],
   "source": [
    "@variable(modeloP1, x11 >= 0)\n",
    "@variable(modeloP1, x12 >= 0)\n",
    "@variable(modeloP1, x13 >= 0)\n",
    "@variable(modeloP1, x21 >= 0)\n",
    "@variable(modeloP1, x22 >= 0)\n",
    "@variable(modeloP1, x23 >= 0)\n",
    "@variable(modeloP1, x31 >= 0)\n",
    "@variable(modeloP1, x32 >= 0)\n",
    "@variable(modeloP1, x33 >= 0)\n",
    "@variable(modeloP1, x41 >= 0)\n",
    "@variable(modeloP1, x42 >= 0)\n",
    "@variable(modeloP1, x43 >= 0)\n",
    "@variable(modeloP1, i11 >= 0)\n",
    "@variable(modeloP1, i12 >= 0)\n",
    "@variable(modeloP1, i21 >= 0)\n",
    "@variable(modeloP1, i22 >= 0)\n",
    "@variable(modeloP1, i31 >= 0)\n",
    "@variable(modeloP1, i32 >= 0)\n",
    "@variable(modeloP1, i41 >= 0)\n",
    "@variable(modeloP1, i42 >= 0)"
   ]
  },
  {
   "cell_type": "markdown",
   "id": "perfect-tomorrow",
   "metadata": {},
   "source": [
    "### Función Objetivo\n",
    "\n",
    "De acuerdo al enunciado, tenemos que: \n"
   ]
  },
  {
   "cell_type": "code",
   "execution_count": 7,
   "id": "behavioral-photographer",
   "metadata": {},
   "outputs": [
    {
     "data": {
      "text/latex": [
       "$$ 20 x11 + 20 x12 + 20 x13 + 25 x21 + 25 x22 + 25 x23 + 10 x31 + 10 x32 + 10 x33 + 15 x41 + 15 x42 + 15 x43 + 0.4 i11 + 0.4 i12 + 0.5 i21 + 0.5 i22 + 0.3 i31 + 0.3 i32 + 0.3 i41 + 0.3 i42 $$"
      ],
      "text/plain": [
       "20 x11 + 20 x12 + 20 x13 + 25 x21 + 25 x22 + 25 x23 + 10 x31 + 10 x32 + 10 x33 + 15 x41 + 15 x42 + 15 x43 + 0.4 i11 + 0.4 i12 + 0.5 i21 + 0.5 i22 + 0.3 i31 + 0.3 i32 + 0.3 i41 + 0.3 i42"
      ]
     },
     "execution_count": 7,
     "metadata": {},
     "output_type": "execute_result"
    }
   ],
   "source": [
    "@objective(modeloP1, Min, 20(x11 + x12 + x13) + 25(x21 + x22 + x23) + 10(x31 + x32 + x33) + 15(x41 + x42 + x43) + 0.4(i11+i12) + 0.5(i21+i22) + 0.3(i31+i32) + 0.3(i41+i42)) "
   ]
  },
  {
   "cell_type": "markdown",
   "id": "ranging-interstate",
   "metadata": {},
   "source": [
    "### Restricciones"
   ]
  },
  {
   "cell_type": "code",
   "execution_count": 9,
   "id": "growing-theorem",
   "metadata": {},
   "outputs": [
    {
     "data": {
      "text/latex": [
       "$$ x43 + i42 = 1510.0 $$"
      ],
      "text/plain": [
       "x43 + i42 = 1510.0"
      ]
     },
     "execution_count": 9,
     "metadata": {},
     "output_type": "execute_result"
    }
   ],
   "source": [
    "@constraint(modeloP1,  10 + x11 - i11 == 1500)\n",
    "@constraint(modeloP1,  i11 + x12 - i12 == 3000)\n",
    "@constraint(modeloP1,  i12 + x13 - 50 == 2000)\n",
    "\n",
    "@constraint(modeloP1,  x21 - i21 == 1300)\n",
    "@constraint(modeloP1,  i21 + x22 - i22 == 800)\n",
    "@constraint(modeloP1,  i22 + x23 - 10 == 800)\n",
    "\n",
    "@constraint(modeloP1, x31 - i31 == 2200 )\n",
    "@constraint(modeloP1, i31 + x32 - i32 == 1500)\n",
    "@constraint(modeloP1, i32 + x33 - 10 == 2900)\n",
    "\n",
    "@constraint(modeloP1, x41 - i41 == 1400)\n",
    "@constraint(modeloP1, i41 + x42 - i42 == 1600)\n",
    "@constraint(modeloP1, i42 + x43 -10 == 1500)"
   ]
  },
  {
   "cell_type": "code",
   "execution_count": 10,
   "id": "anonymous-writer",
   "metadata": {},
   "outputs": [
    {
     "data": {
      "text/latex": [
       "$$ 0.2 x13 + 0.22 x23 + 0.24 x33 + 0.18 x43 \\leq 2000.0 $$"
      ],
      "text/plain": [
       "0.2 x13 + 0.22 x23 + 0.24 x33 + 0.18 x43 ≤ 2000.0"
      ]
     },
     "execution_count": 10,
     "metadata": {},
     "output_type": "execute_result"
    }
   ],
   "source": [
    "@constraint(modeloP1, 0.2x11 + 0.22x21 +0.24x31 + 0.18x41 <= 2000)\n",
    "@constraint(modeloP1, 0.2x12 + 0.22x22 +0.24x32 + 0.18x42 <= 2000)\n",
    "@constraint(modeloP1, 0.2x13 + 0.22x23 +0.24x33 + 0.18x43 <= 2000)"
   ]
  },
  {
   "cell_type": "markdown",
   "id": "adjacent-queen",
   "metadata": {},
   "source": [
    "### Optimizar"
   ]
  },
  {
   "cell_type": "code",
   "execution_count": 12,
   "id": "elder-interval",
   "metadata": {},
   "outputs": [
    {
     "data": {
      "text/plain": [
       "337300.0"
      ]
     },
     "execution_count": 12,
     "metadata": {},
     "output_type": "execute_result"
    }
   ],
   "source": [
    "\n",
    "optimize!(modeloP1) # Resuelve el  modelo\n",
    "objective_value(modeloP1) # Entrega el valor objetivo óptimo"
   ]
  },
  {
   "cell_type": "code",
   "execution_count": 20,
   "id": "agricultural-freeze",
   "metadata": {},
   "outputs": [
    {
     "data": {
      "text/plain": [
       "(1490.0, 3000.0, 2050.0)"
      ]
     },
     "execution_count": 20,
     "metadata": {},
     "output_type": "execute_result"
    }
   ],
   "source": [
    "# Vector x1\n",
    "value(x11), value(x12), value(x13)\n"
   ]
  },
  {
   "cell_type": "code",
   "execution_count": 21,
   "id": "automatic-limitation",
   "metadata": {},
   "outputs": [
    {
     "data": {
      "text/plain": [
       "(1300.0, 800.0, 810.0)"
      ]
     },
     "execution_count": 21,
     "metadata": {},
     "output_type": "execute_result"
    }
   ],
   "source": [
    "# Vector x2\n",
    "value(x21), value(x22), value(x23)\n"
   ]
  },
  {
   "cell_type": "code",
   "execution_count": 22,
   "id": "forced-offering",
   "metadata": {},
   "outputs": [
    {
     "data": {
      "text/plain": [
       "(2200.0, 1500.0, 2910.0)"
      ]
     },
     "execution_count": 22,
     "metadata": {},
     "output_type": "execute_result"
    }
   ],
   "source": [
    "# Vector x3\n",
    "value(x31), value(x32), value(x33)"
   ]
  },
  {
   "cell_type": "code",
   "execution_count": 23,
   "id": "built-feeding",
   "metadata": {},
   "outputs": [
    {
     "data": {
      "text/plain": [
       "(1400.0, 1600.0, 1510.0)"
      ]
     },
     "execution_count": 23,
     "metadata": {},
     "output_type": "execute_result"
    }
   ],
   "source": [
    "# Vector x4\n",
    "value(x41), value(x42), value(x43)"
   ]
  },
  {
   "cell_type": "code",
   "execution_count": 25,
   "id": "varying-improvement",
   "metadata": {},
   "outputs": [
    {
     "data": {
      "text/plain": [
       "(0.0, 0.0)"
      ]
     },
     "execution_count": 25,
     "metadata": {},
     "output_type": "execute_result"
    }
   ],
   "source": [
    "# Vector i1\n",
    "value(i11), value(i12)"
   ]
  },
  {
   "cell_type": "code",
   "execution_count": 26,
   "id": "cheap-marker",
   "metadata": {},
   "outputs": [
    {
     "data": {
      "text/plain": [
       "(0.0, 0.0)"
      ]
     },
     "execution_count": 26,
     "metadata": {},
     "output_type": "execute_result"
    }
   ],
   "source": [
    "# Vector i2\n",
    "value(i21), value(i22)"
   ]
  },
  {
   "cell_type": "code",
   "execution_count": 27,
   "id": "undefined-honolulu",
   "metadata": {},
   "outputs": [
    {
     "data": {
      "text/plain": [
       "(0.0, 0.0)"
      ]
     },
     "execution_count": 27,
     "metadata": {},
     "output_type": "execute_result"
    }
   ],
   "source": [
    "# Vector i3\n",
    "value(i31), value(i32)"
   ]
  },
  {
   "cell_type": "code",
   "execution_count": 28,
   "id": "reduced-greece",
   "metadata": {},
   "outputs": [
    {
     "data": {
      "text/plain": [
       "(0.0, 0.0)"
      ]
     },
     "execution_count": 28,
     "metadata": {},
     "output_type": "execute_result"
    }
   ],
   "source": [
    "# Vector i4\n",
    "value(i41), value(i42)"
   ]
  },
  {
   "cell_type": "code",
   "execution_count": null,
   "id": "insured-universe",
   "metadata": {},
   "outputs": [],
   "source": []
  }
 ],
 "metadata": {
  "kernelspec": {
   "display_name": "Julia 1.6.1",
   "language": "julia",
   "name": "julia-1.6"
  },
  "language_info": {
   "file_extension": ".jl",
   "mimetype": "application/julia",
   "name": "julia",
   "version": "1.6.1"
  }
 },
 "nbformat": 4,
 "nbformat_minor": 5
}
