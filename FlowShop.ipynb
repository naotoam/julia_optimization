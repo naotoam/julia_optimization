{
  "nbformat": 4,
  "nbformat_minor": 5,
  "metadata": {
    "kernelspec": {
      "display_name": "Julia 1.4.1",
      "language": "julia",
      "name": "julia-1.4"
    },
    "language_info": {
      "file_extension": ".jl",
      "mimetype": "application/julia",
      "name": "julia",
      "version": "1.4.1"
    },
    "colab": {
      "name": "FlowShop.ipynb",
      "provenance": []
    }
  },
  "cells": [
    {
      "cell_type": "code",
      "metadata": {
        "id": "1c71d2d8",
        "outputId": "31035604-d03b-4bec-9b89-1bd81cabc2f8"
      },
      "source": [
        "import Pkg # Importa el administrador de paquetes Pkg\n",
        "Pkg.add(\"JuMP\") # Instala el paquete JuMP"
      ],
      "id": "1c71d2d8",
      "execution_count": null,
      "outputs": [
        {
          "output_type": "stream",
          "text": [
            "\u001b[32m\u001b[1m  Resolving\u001b[22m\u001b[39m package versions...\n",
            "\u001b[32m\u001b[1m   Updating\u001b[22m\u001b[39m `~/.julia/environments/v1.4/Project.toml`\n",
            "\u001b[90m [no changes]\u001b[39m\n",
            "\u001b[32m\u001b[1m   Updating\u001b[22m\u001b[39m `~/.julia/environments/v1.4/Manifest.toml`\n",
            "\u001b[90m [no changes]\u001b[39m\n"
          ],
          "name": "stderr"
        }
      ]
    },
    {
      "cell_type": "code",
      "metadata": {
        "id": "38a02375",
        "outputId": "e63ed942-c911-42b2-80d2-9efe2c22dddd"
      },
      "source": [
        "Pkg.add(\"GLPK\") # Instala el paquete GLPK"
      ],
      "id": "38a02375",
      "execution_count": null,
      "outputs": [
        {
          "output_type": "stream",
          "text": [
            "\u001b[32m\u001b[1m  Resolving\u001b[22m\u001b[39m package versions...\n",
            "\u001b[32m\u001b[1m   Updating\u001b[22m\u001b[39m `~/.julia/environments/v1.4/Project.toml`\n",
            "\u001b[90m [no changes]\u001b[39m\n",
            "\u001b[32m\u001b[1m   Updating\u001b[22m\u001b[39m `~/.julia/environments/v1.4/Manifest.toml`\n",
            "\u001b[90m [no changes]\u001b[39m\n"
          ],
          "name": "stderr"
        }
      ]
    },
    {
      "cell_type": "code",
      "metadata": {
        "id": "cf43194b",
        "outputId": "79d4a7df-51d7-451c-cf23-550b7bd77894"
      },
      "source": [
        "using JuMP # Importa el modulo JuMP.\n",
        "using GLPK # Importa el modulo GLPK para utilizar el solver.\n",
        "\n",
        "# CONSTRUCCIÓN DEL MODELO\n",
        "modelo = Model(with_optimizer(GLPK.Optimizer)) # Instancia un modelo.\n",
        "\n",
        "# PARÁMETROS DE PROBLEMA\n",
        "        \n",
        "p = [  5 3;   2 7;   9 1;    0 6;    8 4] # tiempo de trabajo x máquina\n",
        "\n",
        "n,m = size(p)\n",
        "\n",
        "J = 1:n # trabajos\n",
        "M = 1:m # maquinas\n",
        "\n",
        "# VARIABLES DE DECISIÓN\n",
        "    \n",
        " @variable(modelo, x[J, J] >= 0, Bin)  \n",
        "\n",
        " @variable(modelo, w[J, M] >= 0, Int) \n",
        "\n",
        " @variable(modelo, v[J, M] >= 0, Int) \n",
        "\n",
        "\n",
        "# FUNCIÓN OBJETIVO\n",
        "\n",
        " @objective(modelo, Min, sum(v[i,m] + sum(p[j,m] * x[i,j] for j in 1:n ) for i in 1:n) )\n",
        "\n",
        "# RESTRICCIONES\n",
        "\n",
        "    for i in 1:n\n",
        "    @constraint(modelo, sum(x[i,j] for j in 1:n) == 1)\n",
        "    end \n",
        "\n",
        "    for j in 1:n\n",
        "    @constraint(modelo, sum(x[i,j] for i in 1:n) == 1)\n",
        "    end \n",
        "\n",
        "    for k in 1:(m-1)   \n",
        "    @constraint(modelo, w[1,k] == 0)\n",
        "    end \n",
        "\n",
        "    for k in 2:m  \n",
        "    @constraint(modelo, v[1,k] == sum( sum( p[i,r] * x[1,i] for i in 1:n) for r in 1:(k-1) )    )\n",
        "    end \n",
        "    \n",
        "for i in 1:(n-1)\n",
        "    for k in 1:(m-1)  \n",
        "    @constraint(modelo, v[i+1,k] + sum( p[j,k] * x[i+1,j] for j in 1:n) + w[i+1,k] == w[i,k] + sum( p[j,k+1] * x[i,j] for j in 1:n) + v[i+1,k+1])\n",
        "    end \n",
        "end\n",
        "\n",
        "\n",
        "optimize!(modelo) # Resuelve el  modelo\n",
        "termination_status(modelo) # Entrega valor de estado de término del modelo. 1 = óptimo; 2 = infactible.\n"
      ],
      "id": "cf43194b",
      "execution_count": null,
      "outputs": [
        {
          "output_type": "stream",
          "text": [
            "┌ Warning: `with_optimizer` is deprecated. Adapt the following example to update your code:\n",
            "│ `with_optimizer(Ipopt.Optimizer)` becomes `Ipopt.Optimizer`.\n",
            "│   caller = top-level scope at In[14]:3\n",
            "└ @ Core In[14]:3\n"
          ],
          "name": "stderr"
        },
        {
          "output_type": "execute_result",
          "data": {
            "text/plain": [
              "OPTIMAL::TerminationStatusCode = 1"
            ]
          },
          "metadata": {
            "tags": []
          },
          "execution_count": 14
        }
      ]
    },
    {
      "cell_type": "code",
      "metadata": {
        "id": "b31660f1",
        "outputId": "315ef03a-5946-4961-e92d-a671c81e4a12"
      },
      "source": [
        "objective_value(modelo)"
      ],
      "id": "b31660f1",
      "execution_count": null,
      "outputs": [
        {
          "output_type": "execute_result",
          "data": {
            "text/plain": [
              "25.0"
            ]
          },
          "metadata": {
            "tags": []
          },
          "execution_count": 15
        }
      ]
    },
    {
      "cell_type": "code",
      "metadata": {
        "id": "8744ae56-c50b-48df-9d90-697da0a8b865"
      },
      "source": [
        ""
      ],
      "id": "8744ae56-c50b-48df-9d90-697da0a8b865",
      "execution_count": null,
      "outputs": []
    },
    {
      "cell_type": "code",
      "metadata": {
        "id": "8fdf2f20-fb27-4853-99db-c351bd4e3d12"
      },
      "source": [
        ""
      ],
      "id": "8fdf2f20-fb27-4853-99db-c351bd4e3d12",
      "execution_count": null,
      "outputs": []
    }
  ]
}