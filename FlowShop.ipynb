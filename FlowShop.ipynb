{
 "cells": [
  {
   "cell_type": "code",
   "execution_count": 1,
   "id": "1c71d2d8",
   "metadata": {
    "id": "1c71d2d8",
    "outputId": "31035604-d03b-4bec-9b89-1bd81cabc2f8"
   },
   "outputs": [],
   "source": [
    "# Autor: Juan Barrera\n",
    "import Pkg # Importa el administrador de paquetes Pkg\n",
    "Pkg.add(\"JuMP\") # Instala el paquete JuMP"
   ]
  },
  {
   "cell_type": "code",
   "execution_count": 2,
   "id": "38a02375",
   "metadata": {
    "id": "38a02375",
    "outputId": "e63ed942-c911-42b2-80d2-9efe2c22dddd"
   },
   "outputs": [],
   "source": [
    "Pkg.add(\"GLPK\") # Instala el paquete GLPK"
   ]
  },
  {
   "cell_type": "code",
   "execution_count": 3,
   "id": "false-colony",
   "metadata": {},
   "outputs": [],
   "source": [
    "using JuMP # Importa el modulo JuMP.\n",
    "using GLPK # Importa el modulo GLPK para utilizar el solver."
   ]
  },
  {
   "cell_type": "code",
   "execution_count": 4,
   "id": "solar-problem",
   "metadata": {},
   "outputs": [
    {
     "data": {
      "text/plain": [
       "execute (generic function with 1 method)"
      ]
     },
     "execution_count": 4,
     "metadata": {},
     "output_type": "execute_result"
    }
   ],
   "source": [
    "function execute()\n",
    "    # CONSTRUCCIÓN DEL MODELO\n",
    "    modelo = Model(with_optimizer(GLPK.Optimizer)) # Instancia un modelo.\n",
    "\n",
    "    # PARÁMETROS DE PROBLEMA\n",
    "\n",
    "    p = [ 53 27  96 94 52; \n",
    "            56 55  68 67 55; \n",
    "            81 34  67 14 66; \n",
    "            86  4  73 21 86; \n",
    "            25  8  33 61 49; \n",
    "            43 46  63 34 53; \n",
    "            92 93   6  2 56] # tiempo de trabajo x máquina\n",
    "\n",
    "    n,m = size(p)\n",
    "\n",
    "    J = 1:n # trabajos\n",
    "    M = 1:m # maquinas\n",
    "    # VARIABLES DE DECISIÓN\n",
    "    \n",
    "     @variable(modelo, x[J, J] >= 0, Bin)  \n",
    "\n",
    "     @variable(modelo, w[J, M] >= 0, Int) \n",
    "\n",
    "     @variable(modelo, v[J, M] >= 0, Int) \n",
    "\n",
    "\n",
    "    # FUNCIÓN OBJETIVO\n",
    "\n",
    "     @objective(modelo, Min, sum(v[i,m] + sum(p[j,m] * x[i,j] for j in 1:n ) for i in 1:n) )\n",
    "    # RESTRICCIONES\n",
    "\n",
    "    for i in 1:n\n",
    "    @constraint(modelo, sum(x[i,j] for j in 1:n) == 1)\n",
    "    end \n",
    "\n",
    "    for j in 1:n\n",
    "    @constraint(modelo, sum(x[i,j] for i in 1:n) == 1)\n",
    "    end \n",
    "\n",
    "    for k in 1:(m-1)   \n",
    "    @constraint(modelo, w[1,k] == 0)\n",
    "    end \n",
    "\n",
    "    for k in 2:m  \n",
    "    @constraint(modelo, v[1,k] == sum( sum( p[i,r] * x[1,i] for i in 1:n) for r in 1:(k-1) )    )\n",
    "    end \n",
    "    \n",
    "    for i in 1:(n-1)\n",
    "        for k in 1:(m-1)  \n",
    "        @constraint(modelo, v[i+1,k] + sum( p[j,k] * x[i+1,j] for j in 1:n) + w[i+1,k] == w[i,k] + sum( p[j,k+1] * x[i,j] for j in 1:n) + v[i+1,k+1])\n",
    "        end \n",
    "    end\n",
    "    \n",
    "    optimize!(modelo) # Resuelve el  modelo\n",
    "    termination_status(modelo) # Entrega valor de estado de término del modelo. 1 = óptimo; 2 = infactible.\n",
    "    objective_value(modelo)\n",
    "end\n"
   ]
  },
  {
   "cell_type": "code",
   "execution_count": null,
   "id": "empty-issue",
   "metadata": {},
   "outputs": [],
   "source": [
    "@time execute()"
   ]
  },
  {
   "cell_type": "code",
   "execution_count": null,
   "id": "voluntary-prefix",
   "metadata": {},
   "outputs": [],
   "source": []
  }
 ],
 "metadata": {
  "colab": {
   "name": "FlowShop.ipynb",
   "provenance": []
  },
  "kernelspec": {
   "display_name": "Julia 1.6.1",
   "language": "julia",
   "name": "julia-1.6"
  },
  "language_info": {
   "file_extension": ".jl",
   "mimetype": "application/julia",
   "name": "julia",
   "version": "1.6.1"
  }
 },
 "nbformat": 4,
 "nbformat_minor": 5
}
